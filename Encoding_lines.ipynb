{
  "cells": [
    {
      "cell_type": "code",
      "execution_count": null,
      "metadata": {
        "id": "9NC784j2PF4V"
      },
      "outputs": [],
      "source": [
        "import torch\n",
        "import torch.nn as nn"
      ]
    },
    {
      "cell_type": "markdown",
      "metadata": {
        "id": "S4gUakfTPoiY"
      },
      "source": [
        "## I.Data:"
      ]
    },
    {
      "cell_type": "code",
      "execution_count": null,
      "metadata": {
        "id": "QS_ws6HKPoA2"
      },
      "outputs": [],
      "source": [
        "import requests\n",
        "url = 'https://raw.githubusercontent.com/masteno/lines_classification/main/pipe_helper.py'\n",
        "response = requests.get(url)\n",
        "with open('pipe_helper2.py', 'wb') as f:\n",
        "    f.write(response.content)"
      ]
    },
    {
      "cell_type": "code",
      "execution_count": null,
      "metadata": {
        "id": "illScGGwPyUU"
      },
      "outputs": [],
      "source": [
        "mkdir MFlya_oii_220w"
      ]
    },
    {
      "cell_type": "code",
      "execution_count": null,
      "metadata": {
        "id": "5G-zpY6OP39_"
      },
      "outputs": [],
      "source": [
        "mkdir UDFlya_oii_220w"
      ]
    },
    {
      "cell_type": "code",
      "execution_count": null,
      "metadata": {
        "colab": {
          "base_uri": "https://localhost:8080/"
        },
        "id": "eQljy1XYP7B0",
        "outputId": "2305633a-4d6b-4843-adef-f26bb5ba497d"
      },
      "outputs": [
        {
          "output_type": "stream",
          "name": "stdout",
          "text": [
            "****\n",
            "Length of train dataloader: 646 batches of 5\n",
            "Length of test dataloader: 72 batches of 5\n"
          ]
        }
      ],
      "source": [
        "from pipe_helper2 import *\n",
        "#mixed data:\n",
        "mf = read_data('MFlya_oii_220w/')\n",
        "udf = read_data('UDFlya_oii_220w/')\n",
        "\n",
        "train_loader, test_loader = udf.split_data(combine=True, B=mf,max_norm=True,random_seed=42,TEST_SIZE=0.1,VAL_SIZE=0, BATCH_SIZE=5)\n"
      ]
    },
    {
      "cell_type": "markdown",
      "metadata": {
        "id": "5Gq_z0K1QHXG"
      },
      "source": [
        "## II. Architecture and model:\n"
      ]
    },
    {
      "cell_type": "code",
      "execution_count": null,
      "metadata": {
        "id": "goMppaWVQLuU"
      },
      "outputs": [],
      "source": [
        "import torch\n",
        "from torch import nn\n",
        "#from .util import calc_normalization\n",
        "class MLP(nn.Sequential):\n",
        "    \"\"\" #####  Multi-Layer Perceptron:\n",
        "    A simple implementation with a configurable number of hidden layers and\n",
        "    activation functions.\n",
        "    Parameters\n",
        "    ----------\n",
        "    n_in: int --> Input dimension\n",
        "    n_out: int --> Output dimension\n",
        "    n_hidden: list of int --> Dimensions for every hidden layer\n",
        "    act: list of callables\n",
        "        --> Activation functions after every layer. Needs to have len(n_hidden) + 1\n",
        "            If `None`, will be set to `LeakyReLU` for every layer.\n",
        "    dropout: float --> Dropout probability\n",
        "    \"\"\"\n",
        "\n",
        "    def __init__(self, n_in, n_out, n_hidden=(16, 16, 16), act=None, dropout=0):\n",
        "        if act is None:\n",
        "            act = [ nn.LeakyReLU(),] * (len(n_hidden) + 1)\n",
        "        assert len(act) == len(n_hidden) + 1\n",
        "\n",
        "        layer = []\n",
        "        n_ = [n_in, *n_hidden, n_out]\n",
        "        for i in range(len(n_) - 1):\n",
        "            layer.append(nn.Linear(n_[i], n_[i + 1]))\n",
        "            layer.append(act[i])\n",
        "            layer.append(nn.Dropout(p=dropout))\n",
        "\n",
        "        super(MLP, self).__init__(*layer)"
      ]
    },
    {
      "cell_type": "code",
      "execution_count": null,
      "metadata": {
        "id": "CkzANQcnSeRM"
      },
      "outputs": [],
      "source": [
        "class SpeculatorActivation(nn.Module):\n",
        "    \"\"\"Activation function from the Speculator paper\n",
        "    .. math:\n",
        "        a(\\mathbf{x}) = \\left[\\boldsymbol{\\gamma} + (1+e^{-\\boldsymbol\\beta\\odot\\mathbf{x}})^{-1}(1-\\boldsymbol{\\gamma})\\right]\\odot\\mathbf{x}\n",
        "    Paper: Alsing et al., 2020, ApJS, 249, 5\n",
        "    Parameters\n",
        "    ----------\n",
        "    n_parameter: int --> Number of parameters for the activation function to act on\n",
        "    plus_one: bool --> Whether to add 1 to the output\n",
        "    \"\"\"\n",
        "\n",
        "    def __init__(self, n_parameter, plus_one=False):\n",
        "        super().__init__()\n",
        "        self.plus_one = plus_one\n",
        "        self.beta = nn.Parameter(torch.randn(n_parameter), requires_grad=True)\n",
        "        self.gamma = nn.Parameter(torch.randn(n_parameter), requires_grad=True)\n",
        "\n",
        "    def forward(self, x):\n",
        "        \"\"\"Forward method\n",
        "        Parameters\n",
        "        ----------\n",
        "        x: `torch.tensor`\n",
        "        Returns\n",
        "        -------\n",
        "        x': `torch.tensor`, same shape as `x`\n",
        "        \"\"\"\n",
        "        # eq 8 in Alsing+2020\n",
        "        x = (self.gamma + (1 - self.gamma) * torch.sigmoid(self.beta * x)) * x\n",
        "        if self.plus_one:\n",
        "            return x + 1\n",
        "        return x"
      ]
    },
    {
      "cell_type": "code",
      "execution_count": null,
      "metadata": {
        "id": "7sQ5I7RoQL2g"
      },
      "outputs": [],
      "source": [
        "class LineEncoder(nn.Module):\n",
        "    \"\"\"Line encoder:\n",
        "    Modified version of the encoder by Serrà et al. (2018), which combines a 3 layer CNN\n",
        "    with a dot-product attention module. This encoder adds a MLP to further compress the\n",
        "    attended values into a low-dimensional latent space.\n",
        "    Paper: Serrà et al., https://arxiv.org/abs/1805.03908\n",
        "\n",
        "    Parameters\n",
        "    ----------\n",
        "    n_latent: int --> Dimension of latent space\n",
        "    n_hidden: list of int --> Dimensions for every hidden layer of the :class:`MLP`\n",
        "    act: list of callables\n",
        "        Activation functions after every layer. Needs to have len(n_hidden) + 1\n",
        "        If `None`, will be set to `LeakyReLU` for every layer.\n",
        "    dropout: float\n",
        "        Dropout probability\n",
        "    \"\"\"\n",
        "\n",
        "    def __init__(self, instrument, n_latent, n_hidden=(128, 64, 32), act=None, dropout=0):\n",
        "        super(LineEncoder, self).__init__()\n",
        "        self.instrument = instrument\n",
        "        self.n_latent = n_latent # latent vect dim\n",
        "        filters = [64, 128, 256] # number of filters for each conv block\n",
        "        sizes = [3, 3, 3] # size of each filter\n",
        "        self.conv1, self.conv2, self.conv3 = self._conv_blocks(filters, sizes, dropout=dropout)\n",
        "        self.n_feature = filters[-1] *55#// 2\n",
        "\n",
        "        # pools and softmax work for spectra and weights\n",
        "        #self.pool1, self.pool2 = tuple( nn.MaxPool1d(s, padding= s // 2) for s in sizes[:2])\n",
        "        self.pool1, self.pool2 = nn.MaxPool1d(2,2), nn.MaxPool1d(2,2)\n",
        "        self.softmax = nn.Softmax(dim=-1)\n",
        "\n",
        "        # small MLP to go from CNN features to latents\n",
        "        if act is None:\n",
        "            act = [nn.PReLU(n) for n in n_hidden]\n",
        "            # last activation identity to have latents centered around 0\n",
        "            act.append(nn.Identity())\n",
        "        self.mlp = MLP(self.n_feature, self.n_latent, n_hidden=n_hidden, act=act, dropout=dropout)\n",
        "\n",
        "    def _conv_blocks(self, filters, sizes, dropout=0):\n",
        "        convs = []\n",
        "        for i in range(len(filters)):\n",
        "            f_in = 1 if i == 0 else filters[i - 1]\n",
        "            f = filters[i]\n",
        "            s = sizes[i]\n",
        "            p = s // 2\n",
        "            conv = nn.Conv1d( in_channels=f_in, out_channels=f, kernel_size=s, padding=p,)\n",
        "            norm = nn.InstanceNorm1d(f)\n",
        "            act = nn.PReLU(f)\n",
        "            drop = nn.Dropout(p=dropout)\n",
        "            convs.append(nn.Sequential(conv, norm, act, drop))\n",
        "        return tuple(convs)\n",
        "\n",
        "    def _downsample(self, x):\n",
        "        # compression\n",
        "        #x = x.unsqueeze(1)\n",
        "        x = self.pool1(self.conv1(x))\n",
        "        x = self.pool2(self.conv2(x))\n",
        "        x = self.conv3(x) # shape: [B, number of filters, 220]\n",
        "        #C = x.shape[1] // 2\n",
        "        # split half channels into attention value and key\n",
        "        #h, a = torch.split(x, [C, C], dim=1)\n",
        "\n",
        "        #return h, a\n",
        "        return x\n",
        "\n",
        "    def forward(self, y):\n",
        "        \"\"\"Forward method\n",
        "        Parameters\n",
        "        ----------\n",
        "        y: `torch.tensor`, shape (N, L)\n",
        "            Batch of observed spectra\n",
        "        Returns\n",
        "        -------\n",
        "        s: `torch.tensor`, shape (N, n_latent)\n",
        "            Batch of latents that encode `spectra`\n",
        "        \"\"\"\n",
        "        #with self attention:#########\n",
        "        # run through CNNs\n",
        "        #h, a = self._downsample(y)\n",
        "        # softmax attention\n",
        "        #a = self.softmax(a)\n",
        "        # attach hook to extract backward gradient of a scalar prediction\n",
        "        # for Grad-FAM (Feature Activation Map)\n",
        "        #if ~self.training and a.requires_grad == True:\n",
        "        #    a.register_hook(self._attention_hook)\n",
        "        # apply attention\n",
        "        #x = torch.sum(h * a, dim=2)\n",
        "        # run attended features into MLP for final latents\n",
        "        #x = self.mlp(x)\n",
        "\n",
        "        #without self attention:########\n",
        "        x = self._downsample(y)\n",
        "        x = torch.flatten(x, start_dim=1)\n",
        "        x = self.mlp(x)\n",
        "        #x = self.mlp(x)\n",
        "        return x\n",
        "\n",
        "    @property\n",
        "    def n_parameters(self):\n",
        "        \"\"\"Number of parameters in this model\"\"\"\n",
        "        return sum(p.numel() for p in self.parameters() if p.requires_grad)\n",
        "\n",
        "    def _attention_hook(self, grad):\n",
        "        self._attention_grad = grad\n",
        "\n",
        "    @property\n",
        "    def attention_grad(self):\n",
        "        \"\"\"Gradient of the attention weights\n",
        "\n",
        "        Factor to compute the importance of attention for Grad-FAM method.\n",
        "\n",
        "        Requires a previous `loss.backward` call for any scalar loss function based on\n",
        "        outputs of this class's `forward` method. This functionality is switched off\n",
        "        during training.\n",
        "        \"\"\"\n",
        "        if hasattr(self, \"_attention_grad\"):\n",
        "            return self._attention_grad\n",
        "        else:\n",
        "            return None"
      ]
    },
    {
      "cell_type": "code",
      "execution_count": null,
      "metadata": {
        "id": "H-QkS8kRckvY"
      },
      "outputs": [],
      "source": [
        "class LineDecoder(nn.Module):\n",
        "    \"\"\"Spectrum decoder\n",
        "    Simple :class:`MLP` to create a restframe spectrum from a latent vector,\n",
        "    followed by explicit redshifting, resampling, and convolution transformations to\n",
        "    match the observations from a given instrument.\n",
        "\n",
        "    Parameter\n",
        "    ---------\n",
        "    wave_rest: `torch.tensor` --> Restframe wavelengths\n",
        "    n_latent: int -->Dimension of latent space\n",
        "    n_hidden: list of int\n",
        "        Dimensions for every hidden layer of the :class:`MLP`\n",
        "    act: list of callables\n",
        "        Activation functions after every layer. Needs to have len(n_hidden) + 1\n",
        "        If `None`, will be set to :class:`SpeculatorActivation` for every layer.\n",
        "    dropout: float\n",
        "        Dropout probability\n",
        "    \"\"\"\n",
        "\n",
        "    def __init__( self,width, up_width, n_latent=5, n_hidden=(64, 256, 512), act=None, dropout=0,):\n",
        "\n",
        "        super(LineDecoder, self).__init__()\n",
        "        if act is None:\n",
        "            act = [SpeculatorActivation(n) for n in n_hidden]\n",
        "            act.append(SpeculatorActivation(up_width, plus_one=False))\n",
        "\n",
        "        self.mlp = MLP( n_latent,up_width , n_hidden=n_hidden, act=act, dropout=dropout,)\n",
        "        self.n_latent = n_latent\n",
        "        self.w = width\n",
        "\n",
        "\n",
        "    def decode(self, s):\n",
        "        \"\"\"Decode latents into restframe spectrum\n",
        "        Parameter\n",
        "        ---------\n",
        "        s: `torch.tensor`, shape (N, S)\n",
        "            Batch of latents\n",
        "        Returns\n",
        "        -------\n",
        "        x: `torch.tensor`, shape (N, L)\n",
        "            Batch of restframe spectra\n",
        "        \"\"\"\n",
        "        return self.mlp.forward(s)\n",
        "\n",
        "    def forward(self, s,lbda, instrument=None):\n",
        "        \"\"\"Forward method\n",
        "        Parameter\n",
        "        ---------\n",
        "        s: `torch.tensor`, shape (N, S)\n",
        "            Batch of latents\n",
        "        instrument: :class:`spender.Instrument`\n",
        "            Instrument to generate spectrum for\n",
        "        Returns\n",
        "        -------\n",
        "        y: `torch.tensor`, shape (N, L)\n",
        "            Batch of spectra at redshift `z` as observed by `instrument`\n",
        "        \"\"\"\n",
        "        # restframe\n",
        "        Line = self.decode(s)\n",
        "        # observed frame\n",
        "        if instrument is not None :\n",
        "            Line = self.transform(Line,lbda, instrument=instrument)\n",
        "        return Line\n",
        "\n",
        "    def transform(self, x,lbda, instrument=None):\n",
        "        \"\"\"Transformations from supe-resolution to observed frame\n",
        "        Parameter\n",
        "        ---------\n",
        "        x: `torch.tensor`, shape (N, S)\n",
        "            Batch of restframe Lines\n",
        "        instrument: :class:`spender.Instrument`\n",
        "            Instrument to generate spectrum for\n",
        "\n",
        "        Returns\n",
        "        -------\n",
        "        y: `torch.tensor`, shape (N, L)\n",
        "            Batch of spectra at redshift `z` as observed by `instrument`\n",
        "        \"\"\"\n",
        "        # down sample to input line width:\n",
        "        Line = F.interpolate(x.unsqueeze(dim=1), size= self.w, mode='linear', align_corners=False)\n",
        "        #print(Line.shape)\n",
        "        # convolve with LSF\n",
        "        if instrument.lsf is not None:\n",
        "            Line = instrument.lsf(Line, lbda)#.squeeze(1)\n",
        "\n",
        "        return Line\n",
        "\n",
        "    @property\n",
        "    def n_parameters(self):\n",
        "        \"\"\"Number of parameters in this model\"\"\"\n",
        "        return sum(p.numel() for p in self.parameters() if p.requires_grad)"
      ]
    },
    {
      "cell_type": "code",
      "execution_count": null,
      "metadata": {
        "id": "NGxIfQxnCRwR"
      },
      "outputs": [],
      "source": [
        "class BaseAutoencoder(nn.Module):\n",
        "    \"\"\"Base class for spectrum autoencoder\n",
        "    This class is agnostic about the encoder and decoder architectures. It simply calls\n",
        "    them in order and computes the loss for the recontruction fidelity.\n",
        "    The only requirements for the modules is that they have the same latent\n",
        "    dimensionality, and for the `loss` method the length of the observed spectrum\n",
        "    vectors need to agree.\n",
        "    Parameter\n",
        "    ---------\n",
        "    encoder: `nn.Module`\n",
        "        Encoder\n",
        "    decoder: `nn.Module`\n",
        "        Decoderimport torch.optim as optim\n",
        "    \"\"\"\n",
        "\n",
        "    def __init__(self, encoder, decoder,):\n",
        "        super(BaseAutoencoder, self).__init__()\n",
        "        assert encoder.n_latent == decoder.n_latent\n",
        "        self.encoder = encoder\n",
        "        self.decoder = decoder\n",
        "\n",
        "    def encode(self, x):\n",
        "        \"\"\"Encode from observed Lines to latents\n",
        "        Parameters\n",
        "        ----------\n",
        "        y: `torch.tensor`, shape (N, L)\n",
        "            Batch of observed spectra\n",
        "        Returns\n",
        "        -------\n",
        "        s: `torch.tensor`, shape (N, n_latent)\n",
        "            Batch of latents that encode `spectra`\n",
        "        \"\"\"\n",
        "        return self.encoder(x)\n",
        "\n",
        "    def decode(self, s):\n",
        "        \"\"\"Decode latents into super resolution line\n",
        "        Parameter\n",
        "        ---------\n",
        "        s: `torch.tensor`, shape (N, S)\n",
        "            Batch of latents\n",
        "        Returns\n",
        "        -------\n",
        "        x: `torch.tensor`, shape (N, L)\n",
        "            Batch of super resolution lines\n",
        "        \"\"\"\n",
        "        return self.decoder(s, None)\n",
        "\n",
        "    def _forward(self, y,lbda, instrument=None, z=None, s=None, normalize=False, weights=None):\n",
        "        \"\"\"Perform a forward pass through the model to create a latent, super-resol, and reconstruction from an observed line, instrument.\n",
        "         If inverse variance weights are passed,\n",
        "         also normalizes the reconstruction to the observed spectrum.\"\"\"\n",
        "        if s is None:\n",
        "            s = self.encode(y)\n",
        "        if instrument is None:\n",
        "            instrument = self.encoder.instrument\n",
        "        # make super-resol model line\n",
        "        restframe = self.decode(s).squeeze(dim=0)\n",
        "        # make resampled and interpolated reconstruction\n",
        "        reconstruction = self.decoder.transform(restframe,lbda, instrument=instrument)\n",
        "        # normalize restframe and reconstruction to observed spectrum\n",
        "        if normalize:\n",
        "            if weights is None: # vmap requires tensors\n",
        "                weights = torch.ones_like(y)\n",
        "            restframe, reconstruction = torch.vmap(self.normalize)( y, weights, restframe, reconstruction)\n",
        "        return s, restframe, reconstruction\n",
        "\n",
        "    def forward(self, y,lbda, instrument=None, z=None, s=None, normalize=False, weights=None):\n",
        "        \"\"\"Forward method\n",
        "        Transforms observed spectra into their reconstruction for a given intrument and redshift.\n",
        "        If weights are passed, also normalizes the reconstruction to the observed spectrum.\n",
        "\n",
        "        Parameter\n",
        "        ---------\n",
        "        y: `torch.tensor`, shape (N, L)\n",
        "            Batch of observed spectra\n",
        "        instrument: :class:`spender.Instrument`\n",
        "            Instrument to generate spectrum for\n",
        "        z: `torch.tensor`, shape (N, 1)\n",
        "            Redshifts for each spectrum. When given, `aux` is ignored.\n",
        "        s: `torch.tensor`, shape (N, S)\n",
        "            (optional) Batch of latents. When given, encoding is omitted and these latents are used instead.\n",
        "        normalize: bool\n",
        "            (optional) Whether to normalize the reconstruction match the amplitude of the observed spectrum.\n",
        "            If this is set to False, it requires that the spectra have been flux-normalized.\n",
        "        weights: `torch.tensor`, shape (N, L)\n",
        "            (optional) Inverse variance weights for each spectrum, used for normalization computation.\n",
        "\n",
        "        Returns\n",
        "        -------\n",
        "        y: `torch.tensor`, shape (N, L)\n",
        "            Batch of spectra at redshift `z` as observed by `instrument`\n",
        "        \"\"\"\n",
        "        s, x, y_ = self._forward(y,lbda, instrument=instrument, z=z, s=s, normalize=normalize, weights=weights)\n",
        "\n",
        "        return s,x,y_\n",
        "\n",
        "    def loss(self, y,lbda, weights, instrument=None, z=None, s=None, normalize=False, individual=False):\n",
        "        \"\"\" Weighted MSE loss\n",
        "        Parameter\n",
        "        --------\n",
        "        y: `torch.tensor`, shape (N, L)\n",
        "            Batch of observed spectra\n",
        "        weights: `torch.tensor`, shape (N, L)\n",
        "            Batch of weights for observed spectra\n",
        "        instrument: :class:`spender.Instrument`\n",
        "            Instrument to generate spectrum for\n",
        "        z: `torch.tensor`, shape (N, 1)\n",
        "            Redshifts for each spectrum. When given, `aux` is ignored.\n",
        "        s: `torch.tensor`, shape (N, S)\n",
        "            (optional) Batch of latents. When given, encoding is omitted and these\n",
        "            latents are used instead.\n",
        "        normalize: bool\n",
        "            (optional) Whether to normalize the reconstruction match the amplitude of the observed spectrum.\n",
        "            If this is set to False, it requires that the spectra have been flux-normalized.\n",
        "        individual: bool\n",
        "            Whether the loss is computed for each spectrum individually or aggregated\n",
        "\n",
        "        Returns\n",
        "        -------\n",
        "        float or `torch.tensor`, shape (N,) of weighted MSE loss\n",
        "        \"\"\"\n",
        "        _,__,y_ = self.forward(y,lbda, instrument=instrument, z=z, s=s, normalize=normalize)\n",
        "        return self._loss(y, weights, y_, individual=individual)\n",
        "\n",
        "    def _loss(self, y, weights, y_, individual=False):\n",
        "        # loss = total squared deviation in units of variance\n",
        "        # if the model is identical to observed spectrum (up to the noise),\n",
        "        # then loss per object = D (number of non-zero bins)\n",
        "\n",
        "        # to make it to order unity for comparing losses, divide out L (number of bins)\n",
        "        # instead of D, so that spectra with more valid bins have larger impact\n",
        "        loss_ind = torch.sum(0.5 * weights * (y - y_).pow(2), dim=1) / y.shape[1]\n",
        "\n",
        "        if individual:\n",
        "            return loss_ind\n",
        "\n",
        "        return torch.sum(loss_ind)\n",
        "\n",
        "    @property\n",
        "    def n_parameter(self):\n",
        "        \"\"\"Number of parameters in this model\"\"\"\n",
        "        return sum(p.numel() for p in self.parameters() if p.requires_grad)\n",
        "\n",
        "    @property\n",
        "    def wave_obs(self):\n",
        "        \"\"\"Observed wavelengths used by the encoder\"\"\"\n",
        "        return self.encoder.instrument.wave_obs\n",
        "\n",
        "    @property\n",
        "    def wave_rest(self):\n",
        "        \"\"\"Resframe wavelengths used by the decoder\"\"\"\n",
        "        return self.decoder.wave_rest\n"
      ]
    },
    {
      "cell_type": "code",
      "execution_count": null,
      "metadata": {
        "id": "gdkwIbLUCS1T"
      },
      "outputs": [],
      "source": [
        "class LineAutoencoder(BaseAutoencoder):\n",
        "    \"\"\"Concrete implementation of spectrum encoder\n",
        "\n",
        "    Constructs and uses :class:`SpectrumEncoder` as encoder and :class:`SpectrumDecoder`\n",
        "    as decoder.\n",
        "\n",
        "    Parameter\n",
        "    ---------\n",
        "    instrument: :class:`spender.Instrument`\n",
        "        Observing instrument\n",
        "    wave_rest: `torch.tensor`\n",
        "        Restframe wavelengths\n",
        "    n_latent: int\n",
        "        Dimension of latent space\n",
        "    n_hidden: list of int\n",
        "        Dimensions for every hidden layer of the decoder :class:`MLP`\n",
        "    act: list of callables\n",
        "        Activation functions for the decoder. Needs to have len(n_hidden) + 1\n",
        "        If `None`, will be set to `LeakyReLU` for every layer.\n",
        "    \"\"\"\n",
        "\n",
        "    def __init__( self, instrument, w, up_width, n_latent=20, n_hidden=(64, 256, 512), act=None,):\n",
        "\n",
        "        encoder = LineEncoder(instrument, n_latent)\n",
        "        decoder = LineDecoder(w, up_width, n_latent, n_hidden=n_hidden, act=act,)\n",
        "        super(LineAutoencoder, self).__init__( encoder, decoder,)"
      ]
    },
    {
      "cell_type": "markdown",
      "metadata": {
        "id": "paSccnJdSS68"
      },
      "source": [
        "## III. Train"
      ]
    },
    {
      "cell_type": "code",
      "execution_count": null,
      "metadata": {
        "id": "TGhz9BhYSSDN"
      },
      "outputs": [],
      "source": [
        "import torch.optim as optim\n",
        "def train( model, instrument,\n",
        "           trainloader, testloader, device,\n",
        "           n_epoch=200, n_batch=None, outfile=None, losses=None, verbose=True, lr=3e-4):\n",
        "\n",
        "    optimizer = optim.Adam(model.parameters(), lr=lr)\n",
        "    epoch = 0\n",
        "    if losses is None:\n",
        "        losses = []\n",
        "    else:\n",
        "        try:\n",
        "            epoch = len(losses)\n",
        "            n_epoch += epoch\n",
        "            if verbose:\n",
        "                train_loss, valid_loss = losses[-1]\n",
        "                print(f'====> Epoch: {epoch-1} TRAINING Loss: {train_loss:.3e}  VALIDATION Loss: {valid_loss:.3e}')\n",
        "\n",
        "        except: # OK if losses are empty\n",
        "            pass\n",
        "\n",
        "    for epoch_ in range(epoch, n_epoch):\n",
        "        model.train()\n",
        "        train_loss = 0.\n",
        "        n_sample = 0\n",
        "        for k, batch in enumerate(trainloader):\n",
        "            X, V, lbdas = batch['line'].to(device), batch['var'].to(device), batch['meta'][:,1].to(device)\n",
        "            batch_size = len(X[0])\n",
        "            loss = model.loss(X,lbdas, 1/V, instrument=instrument)\n",
        "            train_loss += loss.item()\n",
        "            n_sample += batch_size\n",
        "            optimizer.zero_grad()\n",
        "            loss.backward()\n",
        "            optimizer.step()\n",
        "            # stop after n_batch\n",
        "            if n_batch is not None and k == n_batch - 1:\n",
        "                break\n",
        "        train_loss /= n_sample\n",
        "\n",
        "        with torch.no_grad():\n",
        "            model.eval()\n",
        "            valid_loss = 0.\n",
        "            n_sample = 0\n",
        "            for k, X in enumerate(testloader):\n",
        "                X, V, lbdas = batch['line'].to(device), batch['var'].to(device), batch['meta'][:,1].to(device)\n",
        "                batch_size = len(X[0])\n",
        "                loss = model.loss(X,lbdas, 1/V, instrument=instrument)\n",
        "                valid_loss += loss.item()\n",
        "                n_sample += batch_size\n",
        "                # stop after n_batch\n",
        "                if n_batch is not None and k == n_batch - 1:\n",
        "                    break\n",
        "            valid_loss /= n_sample\n",
        "\n",
        "        losses.append((train_loss, valid_loss))\n",
        "\n",
        "        if verbose:\n",
        "            print(f'====> Epoch: {epoch_} TRAINING Loss: {train_loss:.3e}  VALIDATION Loss: {valid_loss:.3e}')\n",
        "\n",
        "\n",
        "\n"
      ]
    },
    {
      "cell_type": "code",
      "source": [
        "device = \"cuda\" if torch.cuda.is_available() else \"cpu\""
      ],
      "metadata": {
        "id": "SMb9hf8ol-Mp"
      },
      "execution_count": null,
      "outputs": []
    },
    {
      "cell_type": "code",
      "execution_count": null,
      "metadata": {
        "id": "5NzZKaaCSSR-",
        "colab": {
          "base_uri": "https://localhost:8080/"
        },
        "outputId": "e83c48c4-68a2-4876-eec3-3191592b397c"
      },
      "outputs": [
        {
          "output_type": "execute_result",
          "data": {
            "text/plain": [
              "LineAutoencoder(\n",
              "  (encoder): LineEncoder(\n",
              "    (conv1): Sequential(\n",
              "      (0): Conv1d(1, 64, kernel_size=(3,), stride=(1,), padding=(1,))\n",
              "      (1): InstanceNorm1d(64, eps=1e-05, momentum=0.1, affine=False, track_running_stats=False)\n",
              "      (2): PReLU(num_parameters=64)\n",
              "      (3): Dropout(p=0, inplace=False)\n",
              "    )\n",
              "    (conv2): Sequential(\n",
              "      (0): Conv1d(64, 128, kernel_size=(3,), stride=(1,), padding=(1,))\n",
              "      (1): InstanceNorm1d(128, eps=1e-05, momentum=0.1, affine=False, track_running_stats=False)\n",
              "      (2): PReLU(num_parameters=128)\n",
              "      (3): Dropout(p=0, inplace=False)\n",
              "    )\n",
              "    (conv3): Sequential(\n",
              "      (0): Conv1d(128, 256, kernel_size=(3,), stride=(1,), padding=(1,))\n",
              "      (1): InstanceNorm1d(256, eps=1e-05, momentum=0.1, affine=False, track_running_stats=False)\n",
              "      (2): PReLU(num_parameters=256)\n",
              "      (3): Dropout(p=0, inplace=False)\n",
              "    )\n",
              "    (pool1): MaxPool1d(kernel_size=2, stride=2, padding=0, dilation=1, ceil_mode=False)\n",
              "    (pool2): MaxPool1d(kernel_size=2, stride=2, padding=0, dilation=1, ceil_mode=False)\n",
              "    (softmax): Softmax(dim=-1)\n",
              "    (mlp): MLP(\n",
              "      (0): Linear(in_features=14080, out_features=128, bias=True)\n",
              "      (1): PReLU(num_parameters=128)\n",
              "      (2): Dropout(p=0, inplace=False)\n",
              "      (3): Linear(in_features=128, out_features=64, bias=True)\n",
              "      (4): PReLU(num_parameters=64)\n",
              "      (5): Dropout(p=0, inplace=False)\n",
              "      (6): Linear(in_features=64, out_features=32, bias=True)\n",
              "      (7): PReLU(num_parameters=32)\n",
              "      (8): Dropout(p=0, inplace=False)\n",
              "      (9): Linear(in_features=32, out_features=20, bias=True)\n",
              "      (10): Identity()\n",
              "      (11): Dropout(p=0, inplace=False)\n",
              "    )\n",
              "  )\n",
              "  (decoder): LineDecoder(\n",
              "    (mlp): MLP(\n",
              "      (0): Linear(in_features=20, out_features=64, bias=True)\n",
              "      (1): SpeculatorActivation()\n",
              "      (2): Dropout(p=0, inplace=False)\n",
              "      (3): Linear(in_features=64, out_features=256, bias=True)\n",
              "      (4): SpeculatorActivation()\n",
              "      (5): Dropout(p=0, inplace=False)\n",
              "      (6): Linear(in_features=256, out_features=512, bias=True)\n",
              "      (7): SpeculatorActivation()\n",
              "      (8): Dropout(p=0, inplace=False)\n",
              "      (9): Linear(in_features=512, out_features=220, bias=True)\n",
              "      (10): SpeculatorActivation()\n",
              "      (11): Dropout(p=0, inplace=False)\n",
              "    )\n",
              "  )\n",
              ")"
            ]
          },
          "metadata": {},
          "execution_count": 45
        }
      ],
      "source": [
        "model1 = LineAutoencoder(muse, 220, 220)\n",
        "model1.to(device)"
      ]
    },
    {
      "cell_type": "code",
      "execution_count": null,
      "metadata": {
        "colab": {
          "base_uri": "https://localhost:8080/"
        },
        "id": "0eax0TsWCTKF",
        "outputId": "e1257b0d-bfd0-4974-9cbe-d33ce2643267"
      },
      "outputs": [
        {
          "output_type": "stream",
          "name": "stdout",
          "text": [
            "====> Epoch: 0 TRAINING Loss: 8.231e-01  VALIDATION Loss: 8.636e-01\n",
            "====> Epoch: 1 TRAINING Loss: 7.052e-01  VALIDATION Loss: 1.614e-01\n",
            "====> Epoch: 2 TRAINING Loss: 8.917e-01  VALIDATION Loss: 2.861e-01\n",
            "====> Epoch: 3 TRAINING Loss: 6.872e-01  VALIDATION Loss: 7.073e-01\n",
            "====> Epoch: 4 TRAINING Loss: 6.763e-01  VALIDATION Loss: 8.280e-04\n",
            "====> Epoch: 5 TRAINING Loss: 6.232e-01  VALIDATION Loss: 1.698e-02\n",
            "====> Epoch: 6 TRAINING Loss: 6.045e-01  VALIDATION Loss: 1.603e-02\n",
            "====> Epoch: 7 TRAINING Loss: 5.848e-01  VALIDATION Loss: 5.578e-02\n",
            "====> Epoch: 8 TRAINING Loss: 5.524e-01  VALIDATION Loss: 4.979e-02\n",
            "====> Epoch: 9 TRAINING Loss: 5.604e-01  VALIDATION Loss: 5.543e-02\n",
            "====> Epoch: 10 TRAINING Loss: 5.480e-01  VALIDATION Loss: 3.501e-02\n",
            "====> Epoch: 11 TRAINING Loss: 5.502e-01  VALIDATION Loss: 5.759e-03\n",
            "====> Epoch: 12 TRAINING Loss: 5.350e-01  VALIDATION Loss: 1.157e+00\n",
            "====> Epoch: 13 TRAINING Loss: 5.326e-01  VALIDATION Loss: 7.412e-02\n",
            "====> Epoch: 14 TRAINING Loss: 5.176e-01  VALIDATION Loss: 2.997e-03\n",
            "====> Epoch: 15 TRAINING Loss: 5.130e-01  VALIDATION Loss: 8.364e-01\n",
            "====> Epoch: 16 TRAINING Loss: 5.210e-01  VALIDATION Loss: 1.053e-01\n",
            "====> Epoch: 17 TRAINING Loss: 5.374e-01  VALIDATION Loss: 6.225e-01\n",
            "====> Epoch: 18 TRAINING Loss: 5.112e-01  VALIDATION Loss: 1.162e-02\n",
            "====> Epoch: 19 TRAINING Loss: 5.187e-01  VALIDATION Loss: 2.544e-03\n",
            "====> Epoch: 20 TRAINING Loss: 5.051e-01  VALIDATION Loss: 1.188e+00\n",
            "====> Epoch: 21 TRAINING Loss: 4.941e-01  VALIDATION Loss: 4.215e-02\n",
            "====> Epoch: 22 TRAINING Loss: 4.749e-01  VALIDATION Loss: 6.402e-02\n",
            "====> Epoch: 23 TRAINING Loss: 4.991e-01  VALIDATION Loss: 2.852e-03\n",
            "====> Epoch: 24 TRAINING Loss: 4.929e-01  VALIDATION Loss: 4.704e-01\n",
            "====> Epoch: 25 TRAINING Loss: 5.153e-01  VALIDATION Loss: 3.673e-02\n",
            "====> Epoch: 26 TRAINING Loss: 4.805e-01  VALIDATION Loss: 8.649e-02\n",
            "====> Epoch: 27 TRAINING Loss: 4.668e-01  VALIDATION Loss: 2.240e-01\n",
            "====> Epoch: 28 TRAINING Loss: 4.588e-01  VALIDATION Loss: 1.825e-01\n",
            "====> Epoch: 29 TRAINING Loss: 4.622e-01  VALIDATION Loss: 1.285e-02\n",
            "====> Epoch: 30 TRAINING Loss: 4.532e-01  VALIDATION Loss: 8.962e-04\n",
            "====> Epoch: 31 TRAINING Loss: 4.725e-01  VALIDATION Loss: 1.668e+00\n",
            "====> Epoch: 32 TRAINING Loss: 4.618e-01  VALIDATION Loss: 3.563e-02\n",
            "====> Epoch: 33 TRAINING Loss: 4.923e-01  VALIDATION Loss: 5.416e-02\n",
            "====> Epoch: 34 TRAINING Loss: 4.700e-01  VALIDATION Loss: 2.695e-02\n",
            "====> Epoch: 35 TRAINING Loss: 4.597e-01  VALIDATION Loss: 5.784e-01\n",
            "====> Epoch: 36 TRAINING Loss: 4.549e-01  VALIDATION Loss: 1.398e+00\n",
            "====> Epoch: 37 TRAINING Loss: 4.459e-01  VALIDATION Loss: 7.539e-02\n",
            "====> Epoch: 38 TRAINING Loss: 4.321e-01  VALIDATION Loss: 7.189e-02\n",
            "====> Epoch: 39 TRAINING Loss: 4.392e-01  VALIDATION Loss: 7.302e-03\n",
            "====> Epoch: 40 TRAINING Loss: 4.318e-01  VALIDATION Loss: 2.066e-02\n",
            "====> Epoch: 41 TRAINING Loss: 4.441e-01  VALIDATION Loss: 1.243e-02\n",
            "====> Epoch: 42 TRAINING Loss: 4.472e-01  VALIDATION Loss: 8.371e-02\n",
            "====> Epoch: 43 TRAINING Loss: 4.499e-01  VALIDATION Loss: 4.467e-02\n",
            "====> Epoch: 44 TRAINING Loss: 4.448e-01  VALIDATION Loss: 8.705e-02\n",
            "====> Epoch: 45 TRAINING Loss: 4.221e-01  VALIDATION Loss: 2.874e-02\n",
            "====> Epoch: 46 TRAINING Loss: 4.313e-01  VALIDATION Loss: 7.466e-03\n",
            "====> Epoch: 47 TRAINING Loss: 4.131e-01  VALIDATION Loss: 1.730e-03\n",
            "====> Epoch: 48 TRAINING Loss: 4.125e-01  VALIDATION Loss: 4.896e-02\n",
            "====> Epoch: 49 TRAINING Loss: 4.179e-01  VALIDATION Loss: 3.533e-02\n",
            "====> Epoch: 50 TRAINING Loss: 4.096e-01  VALIDATION Loss: 1.528e-02\n",
            "====> Epoch: 51 TRAINING Loss: 4.072e-01  VALIDATION Loss: 2.073e-01\n",
            "====> Epoch: 52 TRAINING Loss: 4.029e-01  VALIDATION Loss: 3.123e-01\n",
            "====> Epoch: 53 TRAINING Loss: 3.831e-01  VALIDATION Loss: 4.030e-02\n",
            "====> Epoch: 54 TRAINING Loss: 3.753e-01  VALIDATION Loss: 7.040e-02\n",
            "====> Epoch: 55 TRAINING Loss: 3.968e-01  VALIDATION Loss: 1.434e-02\n",
            "====> Epoch: 56 TRAINING Loss: 3.897e-01  VALIDATION Loss: 9.405e-03\n",
            "====> Epoch: 57 TRAINING Loss: 3.814e-01  VALIDATION Loss: 5.996e-02\n",
            "====> Epoch: 58 TRAINING Loss: 3.858e-01  VALIDATION Loss: 1.556e-01\n",
            "====> Epoch: 59 TRAINING Loss: 3.870e-01  VALIDATION Loss: 8.826e-01\n",
            "====> Epoch: 60 TRAINING Loss: 3.765e-01  VALIDATION Loss: 1.694e-01\n",
            "====> Epoch: 61 TRAINING Loss: 3.771e-01  VALIDATION Loss: 4.602e-01\n",
            "====> Epoch: 62 TRAINING Loss: 3.754e-01  VALIDATION Loss: 3.580e-02\n",
            "====> Epoch: 63 TRAINING Loss: 3.678e-01  VALIDATION Loss: 1.516e-01\n",
            "====> Epoch: 64 TRAINING Loss: 3.567e-01  VALIDATION Loss: 6.830e-01\n",
            "====> Epoch: 65 TRAINING Loss: 3.716e-01  VALIDATION Loss: 3.298e-01\n",
            "====> Epoch: 66 TRAINING Loss: 3.691e-01  VALIDATION Loss: 1.454e-03\n",
            "====> Epoch: 67 TRAINING Loss: 3.758e-01  VALIDATION Loss: 1.626e-02\n",
            "====> Epoch: 68 TRAINING Loss: 3.801e-01  VALIDATION Loss: 3.239e-02\n",
            "====> Epoch: 69 TRAINING Loss: 3.480e-01  VALIDATION Loss: 2.238e-03\n",
            "====> Epoch: 70 TRAINING Loss: 3.553e-01  VALIDATION Loss: 4.356e-03\n",
            "====> Epoch: 71 TRAINING Loss: 3.355e-01  VALIDATION Loss: 1.319e-02\n",
            "====> Epoch: 72 TRAINING Loss: 3.373e-01  VALIDATION Loss: 1.210e-01\n",
            "====> Epoch: 73 TRAINING Loss: 3.514e-01  VALIDATION Loss: 1.062e-02\n",
            "====> Epoch: 74 TRAINING Loss: 3.431e-01  VALIDATION Loss: 4.033e-01\n",
            "====> Epoch: 75 TRAINING Loss: 3.362e-01  VALIDATION Loss: 4.458e-03\n",
            "====> Epoch: 76 TRAINING Loss: 3.313e-01  VALIDATION Loss: 5.798e-01\n",
            "====> Epoch: 77 TRAINING Loss: 3.511e-01  VALIDATION Loss: 2.632e-02\n",
            "====> Epoch: 78 TRAINING Loss: 3.311e-01  VALIDATION Loss: 2.060e-02\n",
            "====> Epoch: 79 TRAINING Loss: 3.265e-01  VALIDATION Loss: 9.113e-03\n",
            "====> Epoch: 80 TRAINING Loss: 3.280e-01  VALIDATION Loss: 1.093e-02\n",
            "====> Epoch: 81 TRAINING Loss: 3.306e-01  VALIDATION Loss: 9.667e-02\n",
            "====> Epoch: 82 TRAINING Loss: 3.297e-01  VALIDATION Loss: 4.293e-02\n",
            "====> Epoch: 83 TRAINING Loss: 3.298e-01  VALIDATION Loss: 2.799e-02\n",
            "====> Epoch: 84 TRAINING Loss: 3.242e-01  VALIDATION Loss: 1.943e-01\n",
            "====> Epoch: 85 TRAINING Loss: 3.323e-01  VALIDATION Loss: 1.173e-02\n",
            "====> Epoch: 86 TRAINING Loss: 3.255e-01  VALIDATION Loss: 1.124e-02\n",
            "====> Epoch: 87 TRAINING Loss: 3.086e-01  VALIDATION Loss: 1.092e-01\n",
            "====> Epoch: 88 TRAINING Loss: 3.103e-01  VALIDATION Loss: 1.078e-01\n",
            "====> Epoch: 89 TRAINING Loss: 2.938e-01  VALIDATION Loss: 3.176e-02\n",
            "====> Epoch: 90 TRAINING Loss: 2.956e-01  VALIDATION Loss: 9.590e-02\n",
            "====> Epoch: 91 TRAINING Loss: 2.998e-01  VALIDATION Loss: 3.157e-02\n",
            "====> Epoch: 92 TRAINING Loss: 3.126e-01  VALIDATION Loss: 4.597e-02\n",
            "====> Epoch: 93 TRAINING Loss: 3.215e-01  VALIDATION Loss: 8.212e-02\n",
            "====> Epoch: 94 TRAINING Loss: 3.101e-01  VALIDATION Loss: 1.121e-01\n",
            "====> Epoch: 95 TRAINING Loss: 3.039e-01  VALIDATION Loss: 4.737e-02\n",
            "====> Epoch: 96 TRAINING Loss: 3.009e-01  VALIDATION Loss: 1.921e-03\n",
            "====> Epoch: 97 TRAINING Loss: 2.982e-01  VALIDATION Loss: 6.591e-02\n",
            "====> Epoch: 98 TRAINING Loss: 2.988e-01  VALIDATION Loss: 2.848e-02\n",
            "====> Epoch: 99 TRAINING Loss: 2.869e-01  VALIDATION Loss: 1.327e-01\n",
            "====> Epoch: 100 TRAINING Loss: 2.958e-01  VALIDATION Loss: 1.569e-03\n",
            "====> Epoch: 101 TRAINING Loss: 2.910e-01  VALIDATION Loss: 2.534e-01\n",
            "====> Epoch: 102 TRAINING Loss: 2.903e-01  VALIDATION Loss: 1.236e-02\n",
            "====> Epoch: 103 TRAINING Loss: 2.810e-01  VALIDATION Loss: 3.977e-01\n",
            "====> Epoch: 104 TRAINING Loss: 2.836e-01  VALIDATION Loss: 8.417e-03\n",
            "====> Epoch: 105 TRAINING Loss: 2.778e-01  VALIDATION Loss: 9.307e-02\n",
            "====> Epoch: 106 TRAINING Loss: 2.864e-01  VALIDATION Loss: 3.794e-02\n",
            "====> Epoch: 107 TRAINING Loss: 2.995e-01  VALIDATION Loss: 5.150e-04\n",
            "====> Epoch: 108 TRAINING Loss: 2.887e-01  VALIDATION Loss: 5.243e-02\n",
            "====> Epoch: 109 TRAINING Loss: 2.799e-01  VALIDATION Loss: 8.765e-02\n",
            "====> Epoch: 110 TRAINING Loss: 2.728e-01  VALIDATION Loss: 5.278e-02\n",
            "====> Epoch: 111 TRAINING Loss: 2.673e-01  VALIDATION Loss: 9.432e-02\n",
            "====> Epoch: 112 TRAINING Loss: 2.630e-01  VALIDATION Loss: 9.452e-02\n",
            "====> Epoch: 113 TRAINING Loss: 2.698e-01  VALIDATION Loss: 6.984e-03\n",
            "====> Epoch: 114 TRAINING Loss: 2.739e-01  VALIDATION Loss: 1.142e-01\n",
            "====> Epoch: 115 TRAINING Loss: 2.676e-01  VALIDATION Loss: 3.887e-02\n",
            "====> Epoch: 116 TRAINING Loss: 2.578e-01  VALIDATION Loss: 3.543e-01\n",
            "====> Epoch: 117 TRAINING Loss: 2.660e-01  VALIDATION Loss: 6.826e-04\n",
            "====> Epoch: 118 TRAINING Loss: 2.580e-01  VALIDATION Loss: 3.227e-01\n",
            "====> Epoch: 119 TRAINING Loss: 2.778e-01  VALIDATION Loss: 4.486e-01\n",
            "====> Epoch: 120 TRAINING Loss: 2.672e-01  VALIDATION Loss: 1.565e-02\n",
            "====> Epoch: 121 TRAINING Loss: 2.749e-01  VALIDATION Loss: 3.814e-02\n",
            "====> Epoch: 122 TRAINING Loss: 2.688e-01  VALIDATION Loss: 2.071e-03\n",
            "====> Epoch: 123 TRAINING Loss: 2.533e-01  VALIDATION Loss: 4.852e-02\n",
            "====> Epoch: 124 TRAINING Loss: 2.553e-01  VALIDATION Loss: 5.024e-03\n",
            "====> Epoch: 125 TRAINING Loss: 2.530e-01  VALIDATION Loss: 2.051e-01\n",
            "====> Epoch: 126 TRAINING Loss: 2.464e-01  VALIDATION Loss: 4.927e-01\n",
            "====> Epoch: 127 TRAINING Loss: 2.477e-01  VALIDATION Loss: 5.849e-03\n",
            "====> Epoch: 128 TRAINING Loss: 2.396e-01  VALIDATION Loss: 1.728e-02\n",
            "====> Epoch: 129 TRAINING Loss: 2.498e-01  VALIDATION Loss: 4.320e-02\n",
            "====> Epoch: 130 TRAINING Loss: 2.479e-01  VALIDATION Loss: 9.566e-03\n",
            "====> Epoch: 131 TRAINING Loss: 2.448e-01  VALIDATION Loss: 5.520e-03\n",
            "====> Epoch: 132 TRAINING Loss: 2.406e-01  VALIDATION Loss: 1.395e-01\n",
            "====> Epoch: 133 TRAINING Loss: 2.480e-01  VALIDATION Loss: 1.005e-01\n",
            "====> Epoch: 134 TRAINING Loss: 2.465e-01  VALIDATION Loss: 7.179e-03\n",
            "====> Epoch: 135 TRAINING Loss: 2.441e-01  VALIDATION Loss: 7.491e-02\n",
            "====> Epoch: 136 TRAINING Loss: 2.354e-01  VALIDATION Loss: 4.281e-03\n",
            "====> Epoch: 137 TRAINING Loss: 2.388e-01  VALIDATION Loss: 6.712e-02\n",
            "====> Epoch: 138 TRAINING Loss: 2.397e-01  VALIDATION Loss: 5.017e-02\n",
            "====> Epoch: 139 TRAINING Loss: 2.340e-01  VALIDATION Loss: 1.944e-01\n",
            "====> Epoch: 140 TRAINING Loss: 2.308e-01  VALIDATION Loss: 7.377e-04\n",
            "====> Epoch: 141 TRAINING Loss: 2.483e-01  VALIDATION Loss: 9.724e-01\n",
            "====> Epoch: 142 TRAINING Loss: 2.468e-01  VALIDATION Loss: 3.174e-02\n",
            "====> Epoch: 143 TRAINING Loss: 2.291e-01  VALIDATION Loss: 2.382e-01\n",
            "====> Epoch: 144 TRAINING Loss: 2.247e-01  VALIDATION Loss: 5.336e-02\n",
            "====> Epoch: 145 TRAINING Loss: 2.268e-01  VALIDATION Loss: 3.647e-03\n",
            "====> Epoch: 146 TRAINING Loss: 2.327e-01  VALIDATION Loss: 1.639e-02\n",
            "====> Epoch: 147 TRAINING Loss: 2.337e-01  VALIDATION Loss: 3.777e-02\n",
            "====> Epoch: 148 TRAINING Loss: 2.220e-01  VALIDATION Loss: 2.559e-02\n",
            "====> Epoch: 149 TRAINING Loss: 2.285e-01  VALIDATION Loss: 2.829e-01\n",
            "====> Epoch: 150 TRAINING Loss: 2.283e-01  VALIDATION Loss: 7.810e-02\n",
            "====> Epoch: 151 TRAINING Loss: 2.310e-01  VALIDATION Loss: 5.298e-02\n",
            "====> Epoch: 152 TRAINING Loss: 2.265e-01  VALIDATION Loss: 1.356e-02\n",
            "====> Epoch: 153 TRAINING Loss: 2.289e-01  VALIDATION Loss: 2.436e-01\n",
            "====> Epoch: 154 TRAINING Loss: 2.182e-01  VALIDATION Loss: 7.863e-02\n"
          ]
        }
      ],
      "source": [
        "train( model1, muse,\n",
        "           train_loader, test_loader, device= device,\n",
        "           n_epoch=200, n_batch=None, outfile=None, losses=None, verbose=True, lr=3e-4)"
      ]
    },
    {
      "cell_type": "code",
      "source": [],
      "metadata": {
        "id": "slukHfjkErHQ"
      },
      "execution_count": null,
      "outputs": []
    },
    {
      "cell_type": "code",
      "execution_count": null,
      "metadata": {
        "id": "EBDjTT2RBKS0"
      },
      "outputs": [],
      "source": [
        "batch = next(iter(test_loader))\n",
        "s,x, recon = model1(batch['line'].to(device),batch['meta'][:,1].to(device))\n",
        "#rand = torch.randn(5,1,220).to(device)\n",
        "#for i in range(4):\n",
        "#  rand[i,:,:] = rand[i,:,:]/torch.max(torch.abs(rand[i,:,:]))\n",
        "\n",
        "#s,x, recon = model1(rand,batch['meta'][:,1].to(device))"
      ]
    },
    {
      "cell_type": "code",
      "execution_count": null,
      "metadata": {
        "colab": {
          "base_uri": "https://localhost:8080/",
          "height": 407
        },
        "id": "ZNweVv7hB1JE",
        "outputId": "c5a27fe2-52e3-4bb7-cbda-b1ca31b638f8"
      },
      "outputs": [
        {
          "output_type": "display_data",
          "data": {
            "text/plain": [
              "<Figure size 1200x400 with 3 Axes>"
            ],
            "image/png": "[encoded data removed]"
          },
          "metadata": {}
        }
      ],
      "source": [
        "import matplotlib.pyplot as plt\n",
        "\n",
        "i=3\n",
        "fig, (ax1, ax2, ax3) = plt.subplots(1,3, figsize = (12,4))\n",
        "\n",
        "plt.plot()\n",
        "# Plot the first graph on the first subplot\n",
        "ax1.plot(batch['line'][i][0], color='blue',alpha=0.7, label='true')\n",
        "#ax1.plot(rand[i][0].cpu().detach(), color='blue',alpha=0.7, label='true')\n",
        "ax1.set_title('true')\n",
        "ax1.set_ylabel('')\n",
        "ax1.legend()\n",
        "\n",
        "# Plot the second graph on the second subplot\n",
        "ax2.plot(recon[i][0].cpu().detach()/torch.max(recon[i][0].cpu().detach()), color='red',alpha =0.7 , label='reconst')\n",
        "ax2.set_title('reconstruction')\n",
        "ax2.legend()\n",
        "\n",
        "ax3.plot(x[i].cpu().detach()/torch.max(x[i].cpu().detach()), color='black',alpha =0.7 , label='reconst  before LSF conv')\n",
        "ax3.set_title('reconst before LSF conv')\n",
        "ax3.legend()\n",
        "\n",
        "# Adjust layout to prevent overlap\n",
        "plt.tight_layout()\n",
        "\n",
        "# Show the plot\n",
        "plt.show()"
      ]
    },
    {
      "cell_type": "code",
      "execution_count": null,
      "metadata": {
        "id": "kN4gdpgFCPhR"
      },
      "outputs": [],
      "source": []
    },
    {
      "cell_type": "code",
      "execution_count": null,
      "metadata": {
        "id": "caWIKh2N2cqg"
      },
      "outputs": [],
      "source": [
        "muse = instrument(device = device)\n",
        "#x = torch.randn(5,1,220)\n",
        "#muse.lsf(x,lbdas)*\n",
        "#muse.gaussian_blur( mid_lbdas = lbdas)\n",
        "#y = muse.lsf(x,torch.tensor([3400,3500,5090,7000,9100]) )"
      ]
    },
    {
      "cell_type": "code",
      "execution_count": null,
      "metadata": {
        "id": "RD3hAyOKCEF8"
      },
      "outputs": [],
      "source": [
        "torch.save(model1.state_dict(), 'aencoder2_weights.pth')"
      ]
    },
    {
      "cell_type": "code",
      "execution_count": null,
      "metadata": {
        "id": "uDuodVtCCEOY"
      },
      "outputs": [],
      "source": []
    },
    {
      "cell_type": "code",
      "execution_count": null,
      "metadata": {
        "id": "36CzPpz34OiM"
      },
      "outputs": [],
      "source": [
        "import torch.nn.functional as F\n",
        "import torch\n",
        "\n",
        "class instrument:\n",
        "\n",
        "  def __init__(self, device):\n",
        "    self.device = device\n",
        "\n",
        "  def gaussian_blur(self, mid_lbdas):\n",
        "    \"\"\" Gaussian blur filter,\n",
        "    Paramter: mid_lbda --> central wavelengths of the batch lines\n",
        "    \"\"\"\n",
        "    # FWHM --> sigma\n",
        "    def sigma_filter (lbda):\n",
        "      return (5.866e-8 * lbda**2 - 9.187e-4 * lbda + 6.040)/(2.355*1.25) # in number of pixels\n",
        "\n",
        "    s = sigma_filter(mid_lbdas) # in number of pixels\n",
        "    sprime= s/0.3 + 1\n",
        "    c = [int(si) for si in sprime]\n",
        "    k_size = 2 * torch.tensor(c) + 1\n",
        "    deltas = [torch.arange(k) for k in k_size]\n",
        "\n",
        "    X = [torch.meshgrid(delta, indexing=\"ij\") for delta in deltas]\n",
        "    X_cent  = [x[0] - ci for x,ci in zip(X,c)]\n",
        "    filters = [(x.to(device) / s).pow(2) for x,s in zip(X_cent, s)]\n",
        "    filters = [torch.exp(-filt / 2.0) for filt in filters]\n",
        "    filters = [filt / filt.flatten().sum() for filt in filters]\n",
        "    return [filt.unsqueeze(dim=0).unsqueeze(dim=1) for filt in filters]\n",
        "\n",
        "  def conv1d(self, x, filters):\n",
        "    r\"\"\"\n",
        "    Convolution of x and filter.\n",
        "    :param x: (torch.Tensor) Line of size (B,C,W).\n",
        "    :param filter: (torch.Tensor) Filter of size (1,C,W)\n",
        "    :param padding: (string) options = 'valid','circular','replicate','reflect'. If padding='valid' the blurred output is smaller than the image (no padding), otherwise the blurred output has the same size as the image.\n",
        "    \"\"\"\n",
        "    outputs = []\n",
        "\n",
        "    # Perform 1D convolution for each batch element\n",
        "    for i in range(len(filters)):\n",
        "\n",
        "      output_i = F.conv1d(x[i:i+1].float(), filters[i].float(), padding='same')\n",
        "      outputs.append(output_i)\n",
        "    output = torch.cat(outputs, dim=0)\n",
        "\n",
        "    return output\n",
        "\n",
        "  def lsf(self, x, mid_lbda):\n",
        "    \"\"\" Blur operator, this forward operator performs: y = w*x\n",
        "    :param torch.Tensor filter: Tensor of size (1, 1, W) or (1, C, W) containing the blur filter,\n",
        "    :param str padding: options are ``'valid'``, ``'circular'``, ``'replicate'`` and ``'reflect'``. If ``padding='valid'`` the blurred output is smaller than the image (no padding)\n",
        "        otherwise the blurred output has the same size as the image.\n",
        "    :param str device: cpu or cuda.\n",
        "    \"\"\"\n",
        "    filters = self.gaussian_blur(mid_lbda)\n",
        "    return self.conv1d(x, filters)\n",
        "\n"
      ]
    },
    {
      "cell_type": "code",
      "execution_count": null,
      "metadata": {
        "id": "MN5H1AeTFubG"
      },
      "outputs": [],
      "source": []
    },
    {
      "cell_type": "code",
      "execution_count": null,
      "metadata": {
        "id": "TmWIDF5EFui9"
      },
      "outputs": [],
      "source": [
        "b"
      ]
    },
    {
      "cell_type": "code",
      "execution_count": null,
      "metadata": {
        "id": "UpMSVsHzFuwV"
      },
      "outputs": [],
      "source": []
    },
    {
      "cell_type": "code",
      "execution_count": null,
      "metadata": {
        "id": "srvLaLKaFu3E"
      },
      "outputs": [],
      "source": []
    },
    {
      "cell_type": "code",
      "execution_count": null,
      "metadata": {
        "colab": {
          "base_uri": "https://localhost:8080/"
        },
        "id": "ESCs_InbFu9s",
        "outputId": "c87f67ab-5d95-42b5-da7d-e018d82261bc"
      },
      "outputs": [
        {
          "name": "stdout",
          "output_type": "stream",
          "text": [
            "Input tensor size: torch.Size([1, 1, 200])\n",
            "Output tensor size: torch.Size([1, 170])\n"
          ]
        }
      ],
      "source": [
        "# Assuming your input tensor is named input_tensor\n",
        "import numpy as np\n",
        "x = np.linspace(0,100,200)\n",
        "def f(x):\n",
        "  return x**2 +x +2\n",
        "\n",
        "input_tensor = torch.tensor(f(x)).unsqueeze(dim=0)  # Assuming input tensor size is [batch_size, 220]\n",
        "\n",
        "# Reshape input tensor to [batch_size, 1, 220] for 1D interpolation\n",
        "input_tensor = input_tensor.unsqueeze(1)\n",
        "\n",
        "# Define the desired output size\n",
        "output_size = 170\n",
        "\n",
        "# Use interpolate function for downsampling\n",
        "output_tensor = F.interpolate(input_tensor, size=output_size, mode='linear', align_corners=False)\n",
        "\n",
        "# Remove the extra dimension added for interpolation\n",
        "output_tensor = output_tensor.squeeze(1)\n",
        "\n",
        "print(\"Input tensor size:\", input_tensor.size())\n",
        "print(\"Output tensor size:\", output_tensor.size())"
      ]
    },
    {
      "cell_type": "code",
      "execution_count": null,
      "metadata": {
        "colab": {
          "base_uri": "https://localhost:8080/",
          "height": 447
        },
        "id": "zFxC-vzdF39D",
        "outputId": "5aff39bb-3b71-420f-ea80-b9af780db0a1"
      },
      "outputs": [
        {
          "data": {
            "text/plain": [
              "[<matplotlib.lines.Line2D at 0x7d0b39610340>]"
            ]
          },
          "execution_count": 177,
          "metadata": {},
          "output_type": "execute_result"
        },
        {
          "data": {
            "image/png": "[encoded data removed]",
            "text/plain": [
              "<Figure size 640x480 with 1 Axes>"
            ]
          },
          "metadata": {},
          "output_type": "display_data"
        }
      ],
      "source": [
        "plt.plot(input_tensor[0][0])"
      ]
    },
    {
      "cell_type": "code",
      "execution_count": null,
      "metadata": {
        "colab": {
          "base_uri": "https://localhost:8080/",
          "height": 447
        },
        "id": "iHML24vTGrF-",
        "outputId": "7d366387-deec-4e39-98f9-7cccc688b7df"
      },
      "outputs": [
        {
          "data": {
            "text/plain": [
              "[<matplotlib.lines.Line2D at 0x7d0b3826ea10>]"
            ]
          },
          "execution_count": 180,
          "metadata": {},
          "output_type": "execute_result"
        },
        {
          "data": {
            "image/png": "[encoded data removed]",
            "text/plain": [
              "<Figure size 640x480 with 1 Axes>"
            ]
          },
          "metadata": {},
          "output_type": "display_data"
        }
      ],
      "source": [
        "plt.plot(output_tensor[0])"
      ]
    }
  ],
  "metadata": {
    "colab": {
      "collapsed_sections": [
        "S4gUakfTPoiY"
      ],
      "provenance": [],
      "gpuType": "T4"
    },
    "kernelspec": {
      "display_name": "Python 3",
      "name": "python3"
    },
    "language_info": {
      "name": "python"
    },
    "accelerator": "GPU"
  },
  "nbformat": 4,
  "nbformat_minor": 0
}